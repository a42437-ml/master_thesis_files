{
  "nbformat": 4,
  "nbformat_minor": 0,
  "metadata": {
    "colab": {
      "provenance": [],
      "authorship_tag": "ABX9TyPt688JYfuux01MgM/djRGV",
      "include_colab_link": true
    },
    "kernelspec": {
      "name": "python3",
      "display_name": "Python 3"
    },
    "language_info": {
      "name": "python"
    }
  },
  "cells": [
    {
      "cell_type": "markdown",
      "metadata": {
        "id": "view-in-github",
        "colab_type": "text"
      },
      "source": [
        "<a href=\"https://colab.research.google.com/github/a42437-ml/master_thesis_files/blob/main/ml_files/sip_features_tensorflow_pipeline_combined_detection.ipynb\" target=\"_parent\"><img src=\"https://colab.research.google.com/assets/colab-badge.svg\" alt=\"Open In Colab\"/></a>"
      ]
    },
    {
      "cell_type": "code",
      "source": [
        "import pandas as pd\n",
        "from tensorflow.keras.models import load_model\n",
        "\n",
        "# Load model and files\n",
        "model = load_model(\"covert_detector_model.h5\")\n",
        "df = pd.read_csv(\"new_sip_features.csv\")\n",
        "#expected_cols = pd.read_csv(\"training_columns.csv\", header=None)[0].tolist()\n",
        "# Correct if each column name is one row (as expected)\n",
        "expected_cols = pd.read_csv(\"training_columns.csv\", header=None).squeeze().tolist()\n",
        "\n",
        "print(f\"✅ Loaded {len(df)} SIP samples.\")\n",
        "\n",
        "# One-hot encode new data\n",
        "df_encoded = pd.get_dummies(df)\n",
        "\n",
        "# Align with training columns\n",
        "df_encoded = df_encoded.reindex(columns=expected_cols, fill_value=0)\n",
        "\n",
        "print(f\"✅ Data aligned. Shape: {df_encoded.shape}\")\n",
        "\n",
        "# Predict covert traffic\n",
        "predictions = model.predict(df_encoded)\n",
        "df['covert_prediction'] = (predictions > 0.7).astype(int)\n",
        "\n",
        "# Save results\n",
        "df.to_csv(\"covert_alerts.csv\", index=False)\n",
        "print(\"✅ Detection complete. Saved to covert_alerts.csv\")\n",
        "\n",
        "# Optional: Show summary\n",
        "covert_count = df['covert_prediction'].sum()\n",
        "print(f\"⚠️ Detected {covert_count} covert messages out of {len(df)} total.\")\n"
      ],
      "metadata": {
        "colab": {
          "base_uri": "https://localhost:8080/"
        },
        "id": "HtwnmXYSpdPe",
        "outputId": "5a4e375f-606f-483d-f778-24e8c252c9a7"
      },
      "execution_count": 1,
      "outputs": [
        {
          "output_type": "stream",
          "name": "stderr",
          "text": [
            "WARNING:absl:Compiled the loaded model, but the compiled metrics have yet to be built. `model.compile_metrics` will be empty until you train or evaluate the model.\n"
          ]
        },
        {
          "output_type": "stream",
          "name": "stdout",
          "text": [
            "✅ Loaded 584 SIP samples.\n",
            "✅ Data aligned. Shape: (584, 27969)\n",
            "\u001b[1m19/19\u001b[0m \u001b[32m━━━━━━━━━━━━━━━━━━━━\u001b[0m\u001b[37m\u001b[0m \u001b[1m0s\u001b[0m 11ms/step\n",
            "✅ Detection complete. Saved to covert_alerts.csv\n",
            "⚠️ Detected 8 covert messages out of 584 total.\n"
          ]
        }
      ]
    },
    {
      "cell_type": "code",
      "source": [
        "# Save full detection results\n",
        "df.to_csv(\"detection_output.csv\", index=False)\n",
        "print(\"✅ Detection complete. Results saved to detection_output.csv\")\n",
        "\n",
        "# Filter only covert messages\n",
        "covert_df = df[df['covert_prediction'] == 1]\n",
        "\n"
      ],
      "metadata": {
        "colab": {
          "base_uri": "https://localhost:8080/"
        },
        "id": "_inyNxXnhMIZ",
        "outputId": "ec4eebdb-53af-4773-ceec-edfb54f603ab"
      },
      "execution_count": 2,
      "outputs": [
        {
          "output_type": "stream",
          "name": "stdout",
          "text": [
            "✅ Detection complete. Results saved to detection_output.csv\n"
          ]
        }
      ]
    },
    {
      "cell_type": "code",
      "source": [
        "# Extract key metadata columns (customize if your CSV uses different column names)\n",
        "key_fields = ['src_ip', 'dst_ip', 'Call-ID', 'From', 'To']\n",
        "available_keys = [col for col in key_fields if col in covert_df.columns]\n",
        "\n",
        "if not available_keys:\n",
        "    print(\"⚠️ No key SIP fields like src_ip, dst_ip, from, to found in dataset.\")\n",
        "else:\n",
        "    # Show detected covert messages with metadata\n",
        "    print(\"🚨 Covert Messages Detected:\")\n",
        "    print(covert_df[available_keys + ['covert_prediction']].to_string(index=False))\n",
        "\n",
        "    # Save for IDS rule updating\n",
        "    covert_df[available_keys].to_csv(\"covert_alerts.csv\", index=False)\n",
        "    print(\"✅ Key SIP fields of covert detections saved to covert_alerts.csv\")"
      ],
      "metadata": {
        "colab": {
          "base_uri": "https://localhost:8080/"
        },
        "id": "G18ymCT5hhbp",
        "outputId": "12cb0320-fb67-47f5-d463-0ed1ac9c0b88"
      },
      "execution_count": 3,
      "outputs": [
        {
          "output_type": "stream",
          "name": "stdout",
          "text": [
            "🚨 Covert Messages Detected:\n",
            "        src_ip          dst_ip                              Call-ID                                                           From                                           To  covert_prediction\n",
            "38.242.140.216   178.18.244.71               1-14088@38.242.140.216 From: sipp <sip:11100@38.242.140.216:5080>;tag=14088SIPpTag001 To: service <sip:service@178.18.244.71:5080>                  1\n",
            " 178.18.244.71 109.205.183.238 d2ee69b1-c300-123e-968f-00505658449a      From: \"11100\" <sip:11100@178.18.244.71>;tag=FD7XrZy62197N              To: <sip:22200@109.205.183.238>                  1\n",
            "38.242.140.216   178.18.244.71               2-14088@38.242.140.216 From: sipp <sip:11101@38.242.140.216:5080>;tag=14088SIPpTag002 To: service <sip:service@178.18.244.71:5080>                  1\n",
            " 178.18.244.71 109.205.183.238 d8ec6ba5-c300-123e-968f-00505658449a      From: \"11101\" <sip:11101@178.18.244.71>;tag=HZSFvN0DXKpDD              To: <sip:22201@109.205.183.238>                  1\n",
            "38.242.140.216   178.18.244.71               3-14088@38.242.140.216 From: sipp <sip:11102@38.242.140.216:5080>;tag=14088SIPpTag003 To: service <sip:service@178.18.244.71:5080>                  1\n",
            " 178.18.244.71 109.205.183.238 deeb276c-c300-123e-968f-00505658449a      From: \"11102\" <sip:11102@178.18.244.71>;tag=KHc1ZB2mQ52jm              To: <sip:22202@109.205.183.238>                  1\n",
            "38.242.140.216   178.18.244.71               4-14088@38.242.140.216 From: sipp <sip:11103@38.242.140.216:5080>;tag=14088SIPpTag004 To: service <sip:service@178.18.244.71:5080>                  1\n",
            " 178.18.244.71 109.205.183.238 e4eb3dd0-c300-123e-968f-00505658449a      From: \"11103\" <sip:11103@178.18.244.71>;tag=pcrB5vmZe05aQ              To: <sip:22203@109.205.183.238>                  1\n",
            "✅ Key SIP fields of covert detections saved to covert_alerts.csv\n"
          ]
        }
      ]
    }
  ]
}