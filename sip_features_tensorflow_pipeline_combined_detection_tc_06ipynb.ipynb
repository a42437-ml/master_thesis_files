{
  "nbformat": 4,
  "nbformat_minor": 0,
  "metadata": {
    "colab": {
      "provenance": [],
      "authorship_tag": "ABX9TyOGJh+nP8ee8iEtHPI/mP45",
      "include_colab_link": true
    },
    "kernelspec": {
      "name": "python3",
      "display_name": "Python 3"
    },
    "language_info": {
      "name": "python"
    }
  },
  "cells": [
    {
      "cell_type": "markdown",
      "metadata": {
        "id": "view-in-github",
        "colab_type": "text"
      },
      "source": [
        "<a href=\"https://colab.research.google.com/github/a42437-ml/master_thesis_files/blob/main/sip_features_tensorflow_pipeline_combined_detection_tc_06ipynb.ipynb\" target=\"_parent\"><img src=\"https://colab.research.google.com/assets/colab-badge.svg\" alt=\"Open In Colab\"/></a>"
      ]
    },
    {
      "cell_type": "code",
      "source": [
        "import pandas as pd\n",
        "from tensorflow.keras.models import load_model\n",
        "\n",
        "# Load model and files\n",
        "model = load_model(\"covert_detector_model_2500_500_3.h5\")\n",
        "df = pd.read_csv(\"new_sip_features_tc-06_112-40.csv\")  # Your new data\n",
        "#expected_cols = pd.read_csv(\"training_columns.csv\", header=None)[0].tolist()\n",
        "# Correct if each column name is one row (as expected)\n",
        "expected_cols = pd.read_csv(\"training_columns (3).csv\", header=None).squeeze().tolist()\n",
        "\n",
        "print(f\"✅ Loaded {len(df)} SIP samples.\")\n",
        "\n",
        "# One-hot encode new data\n",
        "df_encoded = pd.get_dummies(df)\n",
        "\n",
        "# Align with training columns\n",
        "df_encoded = df_encoded.reindex(columns=expected_cols, fill_value=0)\n",
        "\n",
        "print(f\"✅ Data aligned. Shape: {df_encoded.shape}\")\n",
        "\n",
        "# Predict covert traffic\n",
        "predictions = model.predict(df_encoded)\n",
        "df['covert_prediction'] = (predictions > 0.5).astype(int)\n",
        "\n",
        "# Save results\n",
        "df.to_csv(\"covert_alerts.csv\", index=False)\n",
        "print(\"✅ Detection complete. Saved to covert_alerts.csv\")\n",
        "\n",
        "# Optional: Show summary\n",
        "covert_count = df['covert_prediction'].sum()\n",
        "print(f\"⚠️ Detected {covert_count} covert messages out of {len(df)} total.\")\n"
      ],
      "metadata": {
        "colab": {
          "base_uri": "https://localhost:8080/"
        },
        "id": "HtwnmXYSpdPe",
        "outputId": "7b1d8021-5511-4dd3-db6a-e0303a0181e3"
      },
      "execution_count": null,
      "outputs": [
        {
          "output_type": "stream",
          "name": "stderr",
          "text": [
            "WARNING:absl:Compiled the loaded model, but the compiled metrics have yet to be built. `model.compile_metrics` will be empty until you train or evaluate the model.\n"
          ]
        },
        {
          "output_type": "stream",
          "name": "stdout",
          "text": [
            "✅ Loaded 2536 SIP samples.\n",
            "✅ Data aligned. Shape: (2536, 39349)\n",
            "\u001b[1m80/80\u001b[0m \u001b[32m━━━━━━━━━━━━━━━━━━━━\u001b[0m\u001b[37m\u001b[0m \u001b[1m1s\u001b[0m 10ms/step\n",
            "✅ Detection complete. Saved to covert_alerts.csv\n",
            "⚠️ Detected 40 covert messages out of 2536 total.\n"
          ]
        }
      ]
    },
    {
      "cell_type": "code",
      "source": [
        "# Save full detection results\n",
        "df.to_csv(\"detection_output.csv\", index=False)\n",
        "print(\"✅ Detection complete. Results saved to detection_output.csv\")\n",
        "\n",
        "# Filter only covert messages\n",
        "covert_df = df[df['covert_prediction'] == 1]\n",
        "\n"
      ],
      "metadata": {
        "colab": {
          "base_uri": "https://localhost:8080/"
        },
        "id": "_inyNxXnhMIZ",
        "outputId": "7d50f2a7-5a6c-41a3-9b46-72fc06e34023"
      },
      "execution_count": null,
      "outputs": [
        {
          "output_type": "stream",
          "name": "stdout",
          "text": [
            "✅ Detection complete. Results saved to detection_output.csv\n"
          ]
        }
      ]
    },
    {
      "cell_type": "code",
      "source": [
        "# Extract key metadata columns (customize if your CSV uses different column names)\n",
        "key_fields = ['src_ip', 'dst_ip', 'Call-ID', 'From', 'To']\n",
        "available_keys = [col for col in key_fields if col in covert_df.columns]\n",
        "\n",
        "if not available_keys:\n",
        "    print(\"⚠️ No key SIP fields like src_ip, dst_ip, from, to found in dataset.\")\n",
        "else:\n",
        "    # Show detected covert messages with metadata\n",
        "    print(\"🚨 Covert Messages Detected:\")\n",
        "    print(covert_df[available_keys + ['covert_prediction']].to_string(index=False))\n",
        "\n",
        "    # Save for IDS rule updating\n",
        "    covert_df[available_keys].to_csv(\"covert_alerts.csv\", index=False)\n",
        "    print(\"✅ Key SIP fields of covert detections saved to covert_alerts.csv\")"
      ],
      "metadata": {
        "colab": {
          "base_uri": "https://localhost:8080/"
        },
        "id": "G18ymCT5hhbp",
        "outputId": "47f0a091-2ccb-4feb-c06e-8756a191b2ef"
      },
      "execution_count": null,
      "outputs": [
        {
          "output_type": "stream",
          "name": "stdout",
          "text": [
            "🚨 Covert Messages Detected:\n",
            "        src_ip        dst_ip                 Call-ID                                                                     From                                               To  covert_prediction\n",
            "38.242.140.216 178.18.244.71  1-68818@38.242.140.216  From: 854081310 <sip:854081310@38.242.140.216:5080>;tag=68818SIPpTag001 To: 955954218 <sip:955954218@178.18.244.71:5080>                  1\n",
            "38.242.140.216 178.18.244.71  2-68818@38.242.140.216  From: 301830044 <sip:301830044@38.242.140.216:5080>;tag=68818SIPpTag002 To: 177205718 <sip:177205718@178.18.244.71:5080>                  1\n",
            "38.242.140.216 178.18.244.71  3-68818@38.242.140.216  From: 647053985 <sip:647053985@38.242.140.216:5080>;tag=68818SIPpTag003 To: 294823834 <sip:294823834@178.18.244.71:5080>                  1\n",
            "38.242.140.216 178.18.244.71  4-68818@38.242.140.216  From: 459170909 <sip:459170909@38.242.140.216:5080>;tag=68818SIPpTag004 To: 291631055 <sip:291631055@178.18.244.71:5080>                  1\n",
            "38.242.140.216 178.18.244.71  5-68818@38.242.140.216  From: 364639597 <sip:364639597@38.242.140.216:5080>;tag=68818SIPpTag005 To: 762455201 <sip:762455201@178.18.244.71:5080>                  1\n",
            "38.242.140.216 178.18.244.71  6-68818@38.242.140.216  From: 496125341 <sip:496125341@38.242.140.216:5080>;tag=68818SIPpTag006 To: 955423937 <sip:955423937@178.18.244.71:5080>                  1\n",
            "38.242.140.216 178.18.244.71  7-68818@38.242.140.216  From: 301830044 <sip:301830044@38.242.140.216:5080>;tag=68818SIPpTag007 To: 177205718 <sip:177205718@178.18.244.71:5080>                  1\n",
            "38.242.140.216 178.18.244.71  8-68818@38.242.140.216  From: 964363694 <sip:964363694@38.242.140.216:5080>;tag=68818SIPpTag008 To: 350557391 <sip:350557391@178.18.244.71:5080>                  1\n",
            "38.242.140.216 178.18.244.71  9-68818@38.242.140.216  From: 804454582 <sip:804454582@38.242.140.216:5080>;tag=68818SIPpTag009 To: 382647730 <sip:382647730@178.18.244.71:5080>                  1\n",
            "38.242.140.216 178.18.244.71 10-68818@38.242.140.216     From: 8610531 <sip:8610531@38.242.140.216:5080>;tag=68818SIPpTag0010 To: 548214995 <sip:548214995@178.18.244.71:5080>                  1\n",
            "38.242.140.216 178.18.244.71 11-68818@38.242.140.216 From: 823026112 <sip:823026112@38.242.140.216:5080>;tag=68818SIPpTag0011 To: 108137421 <sip:108137421@178.18.244.71:5080>                  1\n",
            "38.242.140.216 178.18.244.71 12-68818@38.242.140.216 From: 301377376 <sip:301377376@38.242.140.216:5080>;tag=68818SIPpTag0012 To: 533465439 <sip:533465439@178.18.244.71:5080>                  1\n",
            "38.242.140.216 178.18.244.71 13-68818@38.242.140.216 From: 504080180 <sip:504080180@38.242.140.216:5080>;tag=68818SIPpTag0013 To: 254451764 <sip:254451764@178.18.244.71:5080>                  1\n",
            "38.242.140.216 178.18.244.71 14-68818@38.242.140.216 From: 668087051 <sip:668087051@38.242.140.216:5080>;tag=68818SIPpTag0014 To: 451867877 <sip:451867877@178.18.244.71:5080>                  1\n",
            "38.242.140.216 178.18.244.71 15-68818@38.242.140.216 From: 234602555 <sip:234602555@38.242.140.216:5080>;tag=68818SIPpTag0015 To: 463696457 <sip:463696457@178.18.244.71:5080>                  1\n",
            "38.242.140.216 178.18.244.71 16-68818@38.242.140.216 From: 843300579 <sip:843300579@38.242.140.216:5080>;tag=68818SIPpTag0016 To: 414530092 <sip:414530092@178.18.244.71:5080>                  1\n",
            "38.242.140.216 178.18.244.71 17-68818@38.242.140.216 From: 103801765 <sip:103801765@38.242.140.216:5080>;tag=68818SIPpTag0017 To: 504587818 <sip:504587818@178.18.244.71:5080>                  1\n",
            "38.242.140.216 178.18.244.71 18-68818@38.242.140.216 From: 263560299 <sip:263560299@38.242.140.216:5080>;tag=68818SIPpTag0018 To: 185771899 <sip:185771899@178.18.244.71:5080>                  1\n",
            "38.242.140.216 178.18.244.71 19-68818@38.242.140.216 From: 745447713 <sip:745447713@38.242.140.216:5080>;tag=68818SIPpTag0019 To: 226239601 <sip:226239601@178.18.244.71:5080>                  1\n",
            "38.242.140.216 178.18.244.71 20-68818@38.242.140.216 From: 669380691 <sip:669380691@38.242.140.216:5080>;tag=68818SIPpTag0020   To: 77365610 <sip:77365610@178.18.244.71:5080>                  1\n",
            "38.242.140.216 178.18.244.71  1-68853@38.242.140.216  From: 854081310 <sip:854081310@38.242.140.216:5080>;tag=68853SIPpTag001 To: 955954218 <sip:955954218@178.18.244.71:5080>                  1\n",
            "38.242.140.216 178.18.244.71  2-68853@38.242.140.216  From: 301830044 <sip:301830044@38.242.140.216:5080>;tag=68853SIPpTag002 To: 177205718 <sip:177205718@178.18.244.71:5080>                  1\n",
            "38.242.140.216 178.18.244.71  3-68853@38.242.140.216  From: 647053985 <sip:647053985@38.242.140.216:5080>;tag=68853SIPpTag003 To: 294823834 <sip:294823834@178.18.244.71:5080>                  1\n",
            "38.242.140.216 178.18.244.71  4-68853@38.242.140.216  From: 459170909 <sip:459170909@38.242.140.216:5080>;tag=68853SIPpTag004 To: 291631055 <sip:291631055@178.18.244.71:5080>                  1\n",
            "38.242.140.216 178.18.244.71  5-68853@38.242.140.216  From: 364639597 <sip:364639597@38.242.140.216:5080>;tag=68853SIPpTag005 To: 762455201 <sip:762455201@178.18.244.71:5080>                  1\n",
            "38.242.140.216 178.18.244.71  6-68853@38.242.140.216  From: 496125341 <sip:496125341@38.242.140.216:5080>;tag=68853SIPpTag006 To: 955423937 <sip:955423937@178.18.244.71:5080>                  1\n",
            "38.242.140.216 178.18.244.71  7-68853@38.242.140.216  From: 301830044 <sip:301830044@38.242.140.216:5080>;tag=68853SIPpTag007 To: 177205718 <sip:177205718@178.18.244.71:5080>                  1\n",
            "38.242.140.216 178.18.244.71  8-68853@38.242.140.216  From: 964363694 <sip:964363694@38.242.140.216:5080>;tag=68853SIPpTag008 To: 350557391 <sip:350557391@178.18.244.71:5080>                  1\n",
            "38.242.140.216 178.18.244.71  9-68853@38.242.140.216  From: 804454582 <sip:804454582@38.242.140.216:5080>;tag=68853SIPpTag009 To: 382647730 <sip:382647730@178.18.244.71:5080>                  1\n",
            "38.242.140.216 178.18.244.71 10-68853@38.242.140.216     From: 8610531 <sip:8610531@38.242.140.216:5080>;tag=68853SIPpTag0010 To: 548214995 <sip:548214995@178.18.244.71:5080>                  1\n",
            "38.242.140.216 178.18.244.71 11-68853@38.242.140.216 From: 823026112 <sip:823026112@38.242.140.216:5080>;tag=68853SIPpTag0011 To: 108137421 <sip:108137421@178.18.244.71:5080>                  1\n",
            "38.242.140.216 178.18.244.71 12-68853@38.242.140.216 From: 301377376 <sip:301377376@38.242.140.216:5080>;tag=68853SIPpTag0012 To: 533465439 <sip:533465439@178.18.244.71:5080>                  1\n",
            "38.242.140.216 178.18.244.71 13-68853@38.242.140.216 From: 504080180 <sip:504080180@38.242.140.216:5080>;tag=68853SIPpTag0013 To: 254451764 <sip:254451764@178.18.244.71:5080>                  1\n",
            "38.242.140.216 178.18.244.71 14-68853@38.242.140.216 From: 668087051 <sip:668087051@38.242.140.216:5080>;tag=68853SIPpTag0014 To: 451867877 <sip:451867877@178.18.244.71:5080>                  1\n",
            "38.242.140.216 178.18.244.71 15-68853@38.242.140.216 From: 234602555 <sip:234602555@38.242.140.216:5080>;tag=68853SIPpTag0015 To: 463696457 <sip:463696457@178.18.244.71:5080>                  1\n",
            "38.242.140.216 178.18.244.71 16-68853@38.242.140.216 From: 843300579 <sip:843300579@38.242.140.216:5080>;tag=68853SIPpTag0016 To: 414530092 <sip:414530092@178.18.244.71:5080>                  1\n",
            "38.242.140.216 178.18.244.71 17-68853@38.242.140.216 From: 103801765 <sip:103801765@38.242.140.216:5080>;tag=68853SIPpTag0017 To: 504587818 <sip:504587818@178.18.244.71:5080>                  1\n",
            "38.242.140.216 178.18.244.71 18-68853@38.242.140.216 From: 263560299 <sip:263560299@38.242.140.216:5080>;tag=68853SIPpTag0018 To: 185771899 <sip:185771899@178.18.244.71:5080>                  1\n",
            "38.242.140.216 178.18.244.71 19-68853@38.242.140.216 From: 745447713 <sip:745447713@38.242.140.216:5080>;tag=68853SIPpTag0019 To: 226239601 <sip:226239601@178.18.244.71:5080>                  1\n",
            "38.242.140.216 178.18.244.71 20-68853@38.242.140.216 From: 669380691 <sip:669380691@38.242.140.216:5080>;tag=68853SIPpTag0020   To: 77365610 <sip:77365610@178.18.244.71:5080>                  1\n",
            "✅ Key SIP fields of covert detections saved to covert_alerts.csv\n"
          ]
        }
      ]
    }
  ]
}